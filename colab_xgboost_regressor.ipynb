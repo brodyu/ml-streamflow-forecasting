{
  "nbformat": 4,
  "nbformat_minor": 0,
  "metadata": {
    "colab": {
      "name": "colab-xgboost-regressor.ipynb",
      "provenance": [],
      "collapsed_sections": [],
      "authorship_tag": "ABX9TyOPCYQcfTkTdvmwJGEEe2ul",
      "include_colab_link": true
    },
    "kernelspec": {
      "name": "python3",
      "display_name": "Python 3"
    },
    "language_info": {
      "name": "python"
    }
  },
  "cells": [
    {
      "cell_type": "markdown",
      "metadata": {
        "id": "view-in-github",
        "colab_type": "text"
      },
      "source": [
        "<a href=\"https://colab.research.google.com/github/brodyu/ml-streamflow-forecasting/blob/main/colab_xgboost_regressor.ipynb\" target=\"_parent\"><img src=\"https://colab.research.google.com/assets/colab-badge.svg\" alt=\"Open In Colab\"/></a>"
      ]
    },
    {
      "cell_type": "code",
      "execution_count": 1,
      "metadata": {
        "colab": {
          "base_uri": "https://localhost:8080/"
        },
        "id": "9uywXcQJRy9v",
        "outputId": "a78e48bf-4eb3-4061-f1a0-a9567fee3aaf"
      },
      "outputs": [
        {
          "output_type": "stream",
          "name": "stdout",
          "text": [
            "Found existing installation: xgboost 1.5.1\n",
            "Uninstalling xgboost-1.5.1:\n",
            "  Would remove:\n",
            "    /usr/local/lib/python3.7/dist-packages/xgboost-1.5.1.dist-info/*\n",
            "    /usr/local/lib/python3.7/dist-packages/xgboost.libs/libgomp-a34b3233.so.1.0.0\n",
            "    /usr/local/lib/python3.7/dist-packages/xgboost/*\n",
            "Proceed (y/n)? y\n",
            "  Successfully uninstalled xgboost-1.5.1\n",
            "Collecting xgboost\n",
            "  Using cached xgboost-1.5.1-py3-none-manylinux2014_x86_64.whl (173.5 MB)\n",
            "Requirement already satisfied: numpy in /usr/local/lib/python3.7/dist-packages (from xgboost) (1.19.5)\n",
            "Requirement already satisfied: scipy in /usr/local/lib/python3.7/dist-packages (from xgboost) (1.4.1)\n",
            "Installing collected packages: xgboost\n",
            "Successfully installed xgboost-1.5.1\n",
            "1.5.1\n"
          ]
        }
      ],
      "source": [
        "import pandas as pd\n",
        "import numpy as np\n",
        "import matplotlib.pyplot as plt \n",
        "\n",
        "# check xgboost version\n",
        "!pip uninstall xgboost\n",
        "!pip install -U xgboost\n",
        "import xgboost as xg\n",
        "print(xg.__version__)\n",
        "\n",
        "from scipy import stats\n",
        "from sklearn.model_selection import cross_val_score, KFold, train_test_split\n",
        "from sklearn.metrics import mean_squared_error\n",
        "from sklearn.preprocessing import MinMaxScaler, LabelEncoder, StandardScaler, Normalizer"
      ]
    },
    {
      "cell_type": "code",
      "source": [
        "# raw url link from GitHub repo: https://github.com/brodyu/streamflow-forecasting-deep-learning/blob/main/data/Manoa_reduced.csv\n",
        "\n",
        "url = \"https://raw.githubusercontent.com/brodyu/streamflow-forecasting-deep-learning/main/data/Manoa_reduced.csv\"\n",
        "df = pd.read_csv(url)\n",
        "df.head()"
      ],
      "metadata": {
        "colab": {
          "base_uri": "https://localhost:8080/",
          "height": 206
        },
        "id": "sDRb6nJFSNRK",
        "outputId": "10fb2571-1e4a-4f31-fd15-ba0d21e57211"
      },
      "execution_count": 2,
      "outputs": [
        {
          "output_type": "execute_result",
          "data": {
            "text/html": [
              "<div>\n",
              "<style scoped>\n",
              "    .dataframe tbody tr th:only-of-type {\n",
              "        vertical-align: middle;\n",
              "    }\n",
              "\n",
              "    .dataframe tbody tr th {\n",
              "        vertical-align: top;\n",
              "    }\n",
              "\n",
              "    .dataframe thead th {\n",
              "        text-align: right;\n",
              "    }\n",
              "</style>\n",
              "<table border=\"1\" class=\"dataframe\">\n",
              "  <thead>\n",
              "    <tr style=\"text-align: right;\">\n",
              "      <th></th>\n",
              "      <th>Date</th>\n",
              "      <th>Discharge</th>\n",
              "      <th>maxtempC</th>\n",
              "      <th>mintempC</th>\n",
              "      <th>sunHour</th>\n",
              "      <th>uvIndex</th>\n",
              "      <th>DewPointC</th>\n",
              "      <th>FeelsLikeC</th>\n",
              "      <th>HeatIndexC</th>\n",
              "      <th>WindChillC</th>\n",
              "      <th>WindGustKmph</th>\n",
              "      <th>cloudcover</th>\n",
              "      <th>humidity</th>\n",
              "      <th>precipMM</th>\n",
              "      <th>pressure</th>\n",
              "      <th>tempC</th>\n",
              "      <th>visibility</th>\n",
              "      <th>winddirDegree</th>\n",
              "      <th>windspeedKmph</th>\n",
              "    </tr>\n",
              "  </thead>\n",
              "  <tbody>\n",
              "    <tr>\n",
              "      <th>0</th>\n",
              "      <td>10/1/11</td>\n",
              "      <td>2.64</td>\n",
              "      <td>34</td>\n",
              "      <td>23</td>\n",
              "      <td>10.2</td>\n",
              "      <td>6</td>\n",
              "      <td>22</td>\n",
              "      <td>31</td>\n",
              "      <td>31</td>\n",
              "      <td>28</td>\n",
              "      <td>9</td>\n",
              "      <td>51</td>\n",
              "      <td>74</td>\n",
              "      <td>1.5</td>\n",
              "      <td>1009</td>\n",
              "      <td>34</td>\n",
              "      <td>9</td>\n",
              "      <td>304</td>\n",
              "      <td>6</td>\n",
              "    </tr>\n",
              "    <tr>\n",
              "      <th>1</th>\n",
              "      <td>10/2/11</td>\n",
              "      <td>2.63</td>\n",
              "      <td>32</td>\n",
              "      <td>23</td>\n",
              "      <td>8.8</td>\n",
              "      <td>6</td>\n",
              "      <td>23</td>\n",
              "      <td>30</td>\n",
              "      <td>30</td>\n",
              "      <td>27</td>\n",
              "      <td>5</td>\n",
              "      <td>60</td>\n",
              "      <td>84</td>\n",
              "      <td>4.8</td>\n",
              "      <td>1010</td>\n",
              "      <td>32</td>\n",
              "      <td>5</td>\n",
              "      <td>258</td>\n",
              "      <td>3</td>\n",
              "    </tr>\n",
              "    <tr>\n",
              "      <th>2</th>\n",
              "      <td>10/3/11</td>\n",
              "      <td>2.74</td>\n",
              "      <td>34</td>\n",
              "      <td>23</td>\n",
              "      <td>10.2</td>\n",
              "      <td>6</td>\n",
              "      <td>22</td>\n",
              "      <td>30</td>\n",
              "      <td>30</td>\n",
              "      <td>27</td>\n",
              "      <td>7</td>\n",
              "      <td>51</td>\n",
              "      <td>78</td>\n",
              "      <td>11.6</td>\n",
              "      <td>1010</td>\n",
              "      <td>34</td>\n",
              "      <td>7</td>\n",
              "      <td>160</td>\n",
              "      <td>4</td>\n",
              "    </tr>\n",
              "    <tr>\n",
              "      <th>3</th>\n",
              "      <td>10/4/11</td>\n",
              "      <td>5.92</td>\n",
              "      <td>37</td>\n",
              "      <td>21</td>\n",
              "      <td>11.6</td>\n",
              "      <td>8</td>\n",
              "      <td>19</td>\n",
              "      <td>30</td>\n",
              "      <td>30</td>\n",
              "      <td>28</td>\n",
              "      <td>6</td>\n",
              "      <td>22</td>\n",
              "      <td>63</td>\n",
              "      <td>0.0</td>\n",
              "      <td>1008</td>\n",
              "      <td>37</td>\n",
              "      <td>8</td>\n",
              "      <td>165</td>\n",
              "      <td>4</td>\n",
              "    </tr>\n",
              "    <tr>\n",
              "      <th>4</th>\n",
              "      <td>10/5/11</td>\n",
              "      <td>2.92</td>\n",
              "      <td>35</td>\n",
              "      <td>22</td>\n",
              "      <td>11.6</td>\n",
              "      <td>8</td>\n",
              "      <td>18</td>\n",
              "      <td>31</td>\n",
              "      <td>31</td>\n",
              "      <td>29</td>\n",
              "      <td>6</td>\n",
              "      <td>22</td>\n",
              "      <td>56</td>\n",
              "      <td>0.1</td>\n",
              "      <td>1009</td>\n",
              "      <td>35</td>\n",
              "      <td>10</td>\n",
              "      <td>105</td>\n",
              "      <td>4</td>\n",
              "    </tr>\n",
              "  </tbody>\n",
              "</table>\n",
              "</div>"
            ],
            "text/plain": [
              "      Date  Discharge  maxtempC  ...  visibility  winddirDegree  windspeedKmph\n",
              "0  10/1/11       2.64        34  ...           9            304              6\n",
              "1  10/2/11       2.63        32  ...           5            258              3\n",
              "2  10/3/11       2.74        34  ...           7            160              4\n",
              "3  10/4/11       5.92        37  ...           8            165              4\n",
              "4  10/5/11       2.92        35  ...          10            105              4\n",
              "\n",
              "[5 rows x 19 columns]"
            ]
          },
          "metadata": {},
          "execution_count": 2
        }
      ]
    },
    {
      "cell_type": "code",
      "source": [
        "df = df.set_index(\"Date\")\n",
        "df.head()"
      ],
      "metadata": {
        "colab": {
          "base_uri": "https://localhost:8080/",
          "height": 238
        },
        "id": "4p73cFMJSOtA",
        "outputId": "43de0bab-e28f-46ff-878b-9ecabd483c90"
      },
      "execution_count": 3,
      "outputs": [
        {
          "output_type": "execute_result",
          "data": {
            "text/html": [
              "<div>\n",
              "<style scoped>\n",
              "    .dataframe tbody tr th:only-of-type {\n",
              "        vertical-align: middle;\n",
              "    }\n",
              "\n",
              "    .dataframe tbody tr th {\n",
              "        vertical-align: top;\n",
              "    }\n",
              "\n",
              "    .dataframe thead th {\n",
              "        text-align: right;\n",
              "    }\n",
              "</style>\n",
              "<table border=\"1\" class=\"dataframe\">\n",
              "  <thead>\n",
              "    <tr style=\"text-align: right;\">\n",
              "      <th></th>\n",
              "      <th>Discharge</th>\n",
              "      <th>maxtempC</th>\n",
              "      <th>mintempC</th>\n",
              "      <th>sunHour</th>\n",
              "      <th>uvIndex</th>\n",
              "      <th>DewPointC</th>\n",
              "      <th>FeelsLikeC</th>\n",
              "      <th>HeatIndexC</th>\n",
              "      <th>WindChillC</th>\n",
              "      <th>WindGustKmph</th>\n",
              "      <th>cloudcover</th>\n",
              "      <th>humidity</th>\n",
              "      <th>precipMM</th>\n",
              "      <th>pressure</th>\n",
              "      <th>tempC</th>\n",
              "      <th>visibility</th>\n",
              "      <th>winddirDegree</th>\n",
              "      <th>windspeedKmph</th>\n",
              "    </tr>\n",
              "    <tr>\n",
              "      <th>Date</th>\n",
              "      <th></th>\n",
              "      <th></th>\n",
              "      <th></th>\n",
              "      <th></th>\n",
              "      <th></th>\n",
              "      <th></th>\n",
              "      <th></th>\n",
              "      <th></th>\n",
              "      <th></th>\n",
              "      <th></th>\n",
              "      <th></th>\n",
              "      <th></th>\n",
              "      <th></th>\n",
              "      <th></th>\n",
              "      <th></th>\n",
              "      <th></th>\n",
              "      <th></th>\n",
              "      <th></th>\n",
              "    </tr>\n",
              "  </thead>\n",
              "  <tbody>\n",
              "    <tr>\n",
              "      <th>10/1/11</th>\n",
              "      <td>2.64</td>\n",
              "      <td>34</td>\n",
              "      <td>23</td>\n",
              "      <td>10.2</td>\n",
              "      <td>6</td>\n",
              "      <td>22</td>\n",
              "      <td>31</td>\n",
              "      <td>31</td>\n",
              "      <td>28</td>\n",
              "      <td>9</td>\n",
              "      <td>51</td>\n",
              "      <td>74</td>\n",
              "      <td>1.5</td>\n",
              "      <td>1009</td>\n",
              "      <td>34</td>\n",
              "      <td>9</td>\n",
              "      <td>304</td>\n",
              "      <td>6</td>\n",
              "    </tr>\n",
              "    <tr>\n",
              "      <th>10/2/11</th>\n",
              "      <td>2.63</td>\n",
              "      <td>32</td>\n",
              "      <td>23</td>\n",
              "      <td>8.8</td>\n",
              "      <td>6</td>\n",
              "      <td>23</td>\n",
              "      <td>30</td>\n",
              "      <td>30</td>\n",
              "      <td>27</td>\n",
              "      <td>5</td>\n",
              "      <td>60</td>\n",
              "      <td>84</td>\n",
              "      <td>4.8</td>\n",
              "      <td>1010</td>\n",
              "      <td>32</td>\n",
              "      <td>5</td>\n",
              "      <td>258</td>\n",
              "      <td>3</td>\n",
              "    </tr>\n",
              "    <tr>\n",
              "      <th>10/3/11</th>\n",
              "      <td>2.74</td>\n",
              "      <td>34</td>\n",
              "      <td>23</td>\n",
              "      <td>10.2</td>\n",
              "      <td>6</td>\n",
              "      <td>22</td>\n",
              "      <td>30</td>\n",
              "      <td>30</td>\n",
              "      <td>27</td>\n",
              "      <td>7</td>\n",
              "      <td>51</td>\n",
              "      <td>78</td>\n",
              "      <td>11.6</td>\n",
              "      <td>1010</td>\n",
              "      <td>34</td>\n",
              "      <td>7</td>\n",
              "      <td>160</td>\n",
              "      <td>4</td>\n",
              "    </tr>\n",
              "    <tr>\n",
              "      <th>10/4/11</th>\n",
              "      <td>5.92</td>\n",
              "      <td>37</td>\n",
              "      <td>21</td>\n",
              "      <td>11.6</td>\n",
              "      <td>8</td>\n",
              "      <td>19</td>\n",
              "      <td>30</td>\n",
              "      <td>30</td>\n",
              "      <td>28</td>\n",
              "      <td>6</td>\n",
              "      <td>22</td>\n",
              "      <td>63</td>\n",
              "      <td>0.0</td>\n",
              "      <td>1008</td>\n",
              "      <td>37</td>\n",
              "      <td>8</td>\n",
              "      <td>165</td>\n",
              "      <td>4</td>\n",
              "    </tr>\n",
              "    <tr>\n",
              "      <th>10/5/11</th>\n",
              "      <td>2.92</td>\n",
              "      <td>35</td>\n",
              "      <td>22</td>\n",
              "      <td>11.6</td>\n",
              "      <td>8</td>\n",
              "      <td>18</td>\n",
              "      <td>31</td>\n",
              "      <td>31</td>\n",
              "      <td>29</td>\n",
              "      <td>6</td>\n",
              "      <td>22</td>\n",
              "      <td>56</td>\n",
              "      <td>0.1</td>\n",
              "      <td>1009</td>\n",
              "      <td>35</td>\n",
              "      <td>10</td>\n",
              "      <td>105</td>\n",
              "      <td>4</td>\n",
              "    </tr>\n",
              "  </tbody>\n",
              "</table>\n",
              "</div>"
            ],
            "text/plain": [
              "         Discharge  maxtempC  ...  winddirDegree  windspeedKmph\n",
              "Date                          ...                              \n",
              "10/1/11       2.64        34  ...            304              6\n",
              "10/2/11       2.63        32  ...            258              3\n",
              "10/3/11       2.74        34  ...            160              4\n",
              "10/4/11       5.92        37  ...            165              4\n",
              "10/5/11       2.92        35  ...            105              4\n",
              "\n",
              "[5 rows x 18 columns]"
            ]
          },
          "metadata": {},
          "execution_count": 3
        }
      ]
    },
    {
      "cell_type": "code",
      "source": [
        "# Feature Engineering\n",
        "df['Discharge'] = df[\"Discharge\"].rolling(window=3).mean()\n",
        "df = df.iloc[2:]\n",
        "print(df)"
      ],
      "metadata": {
        "colab": {
          "base_uri": "https://localhost:8080/"
        },
        "id": "67NBZAOFlgVS",
        "outputId": "baca7e3b-d999-4f4c-89ff-0c68c34e5d19"
      },
      "execution_count": 4,
      "outputs": [
        {
          "output_type": "stream",
          "name": "stdout",
          "text": [
            "         Discharge  maxtempC  ...  winddirDegree  windspeedKmph\n",
            "Date                          ...                              \n",
            "10/3/11   2.670000        34  ...            160              4\n",
            "10/4/11   3.763333        37  ...            165              4\n",
            "10/5/11   3.860000        35  ...            105              4\n",
            "10/6/11   3.950000        34  ...            161              4\n",
            "10/7/11   3.270000        31  ...            248              4\n",
            "...            ...       ...  ...            ...            ...\n",
            "3/27/20  31.820000        28  ...            134              4\n",
            "3/28/20  41.320000        34  ...            178              3\n",
            "3/29/20  50.833333        29  ...            142              2\n",
            "3/30/20  35.000000        29  ...            121              4\n",
            "3/31/20  24.066667        32  ...            189              3\n",
            "\n",
            "[3103 rows x 18 columns]\n"
          ]
        }
      ]
    },
    {
      "cell_type": "code",
      "source": [
        "def outliers(df, int):\n",
        "  z_scores = stats.zscore(df)\n",
        "  abs_z_scores = np.abs(z_scores)\n",
        "  filtered_entries = (abs_z_scores < int).all(axis=1)\n",
        "  df = df[filtered_entries]\n",
        "  return df"
      ],
      "metadata": {
        "id": "Mu0O_wJHmsLs"
      },
      "execution_count": 5,
      "outputs": []
    },
    {
      "cell_type": "code",
      "source": [
        "def normalization(df):\n",
        "  values = df.values\n",
        "  # convert to floats\n",
        "  values = values.astype('float64')\n",
        "  # Normalization\n",
        "  min_max_scaler = MinMaxScaler()\n",
        "  x_scaled = min_max_scaler.fit_transform(values)\n",
        "  values = pd.DataFrame(x_scaled)\n",
        "  print(values)\n",
        "  return values"
      ],
      "metadata": {
        "id": "CdsD5a5SmufL"
      },
      "execution_count": 6,
      "outputs": []
    },
    {
      "cell_type": "code",
      "source": [
        "df = outliers(df, 3)\n",
        "df = normalization(df)"
      ],
      "metadata": {
        "colab": {
          "base_uri": "https://localhost:8080/"
        },
        "id": "Gs4CUDOKmwlK",
        "outputId": "ff58ff66-7bfc-4c55-cc3b-339397630379"
      },
      "execution_count": 7,
      "outputs": [
        {
          "output_type": "stream",
          "name": "stdout",
          "text": [
            "            0     1         2         3   ...    14        15        16        17\n",
            "0     0.030358  0.60  0.666667  0.623188  ...  0.60  0.428571  0.436578  0.428571\n",
            "1     0.047321  0.75  0.444444  0.826087  ...  0.75  0.500000  0.451327  0.428571\n",
            "2     0.048821  0.65  0.555556  0.826087  ...  0.65  0.642857  0.274336  0.428571\n",
            "3     0.050217  0.60  0.555556  0.826087  ...  0.60  0.571429  0.439528  0.428571\n",
            "4     0.039667  0.45  0.666667  0.623188  ...  0.45  0.571429  0.696165  0.428571\n",
            "...        ...   ...       ...       ...  ...   ...       ...       ...       ...\n",
            "2800  0.170821  0.45  0.777778  0.014493  ...  0.45  0.642857  0.404130  0.714286\n",
            "2801  0.482623  0.30  0.666667  0.420290  ...  0.30  0.500000  0.359882  0.428571\n",
            "2802  0.630017  0.60  0.666667  0.826087  ...  0.60  0.642857  0.489676  0.285714\n",
            "2803  0.777617  0.35  0.666667  0.217391  ...  0.35  0.357143  0.383481  0.142857\n",
            "2804  0.362329  0.50  0.666667  0.217391  ...  0.50  0.500000  0.522124  0.285714\n",
            "\n",
            "[2805 rows x 18 columns]\n"
          ]
        }
      ]
    },
    {
      "cell_type": "code",
      "source": [
        "# split data into input and output columns\n",
        "data = df.values\n",
        "print(data)\n",
        "X, y = data[:, 1: ], data[:, 0]"
      ],
      "metadata": {
        "colab": {
          "base_uri": "https://localhost:8080/"
        },
        "id": "7kc9QWQWSQpC",
        "outputId": "b8d262b2-162a-4b09-df23-90ce63ec0b03"
      },
      "execution_count": 8,
      "outputs": [
        {
          "output_type": "stream",
          "name": "stdout",
          "text": [
            "[[0.03035788 0.6        0.66666667 ... 0.42857143 0.43657817 0.42857143]\n",
            " [0.04732106 0.75       0.44444444 ... 0.5        0.45132743 0.42857143]\n",
            " [0.04882085 0.65       0.55555556 ... 0.64285714 0.27433628 0.42857143]\n",
            " ...\n",
            " [0.63001655 0.6        0.66666667 ... 0.64285714 0.48967552 0.28571429]\n",
            " [0.77761688 0.35       0.66666667 ... 0.35714286 0.38348083 0.14285714]\n",
            " [0.36232933 0.5        0.66666667 ... 0.5        0.52212389 0.28571429]]\n"
          ]
        }
      ]
    },
    {
      "cell_type": "code",
      "source": [
        "print(X)"
      ],
      "metadata": {
        "colab": {
          "base_uri": "https://localhost:8080/"
        },
        "id": "1Du0lHztTk0J",
        "outputId": "44b98a2b-4e3e-4014-94e2-a1f704af33cf"
      },
      "execution_count": 9,
      "outputs": [
        {
          "output_type": "stream",
          "name": "stdout",
          "text": [
            "[[0.6        0.66666667 0.62318841 ... 0.42857143 0.43657817 0.42857143]\n",
            " [0.75       0.44444444 0.82608696 ... 0.5        0.45132743 0.42857143]\n",
            " [0.65       0.55555556 0.82608696 ... 0.64285714 0.27433628 0.42857143]\n",
            " ...\n",
            " [0.6        0.66666667 0.82608696 ... 0.64285714 0.48967552 0.28571429]\n",
            " [0.35       0.66666667 0.2173913  ... 0.35714286 0.38348083 0.14285714]\n",
            " [0.5        0.66666667 0.2173913  ... 0.5        0.52212389 0.28571429]]\n"
          ]
        }
      ]
    },
    {
      "cell_type": "code",
      "source": [
        "print(y)"
      ],
      "metadata": {
        "colab": {
          "base_uri": "https://localhost:8080/"
        },
        "id": "w-1FDQFFe7A5",
        "outputId": "6041f7e8-7b4e-4bdf-845f-4bfd5936dcba"
      },
      "execution_count": 10,
      "outputs": [
        {
          "output_type": "stream",
          "name": "stdout",
          "text": [
            "[0.03035788 0.04732106 0.04882085 ... 0.63001655 0.77761688 0.36232933]\n"
          ]
        }
      ]
    },
    {
      "cell_type": "code",
      "source": [
        "xtrain, xtest, ytrain, ytest=train_test_split(X, y, test_size=0.15)"
      ],
      "metadata": {
        "id": "94Q3i6whkrn4"
      },
      "execution_count": 11,
      "outputs": []
    },
    {
      "cell_type": "code",
      "source": [
        "xgbr = xg.XGBRegressor(verbosity=0) \n",
        "print(xgbr)"
      ],
      "metadata": {
        "colab": {
          "base_uri": "https://localhost:8080/"
        },
        "id": "pB5910Erks__",
        "outputId": "c9ea363f-3a5e-4fc4-ed11-df5afd629e1d"
      },
      "execution_count": 12,
      "outputs": [
        {
          "output_type": "stream",
          "name": "stdout",
          "text": [
            "XGBRegressor(base_score=None, booster=None, colsample_bylevel=None,\n",
            "             colsample_bynode=None, colsample_bytree=None,\n",
            "             enable_categorical=False, gamma=None, gpu_id=None,\n",
            "             importance_type=None, interaction_constraints=None,\n",
            "             learning_rate=None, max_delta_step=None, max_depth=None,\n",
            "             min_child_weight=None, missing=nan, monotone_constraints=None,\n",
            "             n_estimators=100, n_jobs=None, num_parallel_tree=None,\n",
            "             predictor=None, random_state=None, reg_alpha=None, reg_lambda=None,\n",
            "             scale_pos_weight=None, subsample=None, tree_method=None,\n",
            "             validate_parameters=None, verbosity=0)\n"
          ]
        }
      ]
    },
    {
      "cell_type": "code",
      "source": [
        "xgbr.fit(xtrain, ytrain)"
      ],
      "metadata": {
        "colab": {
          "base_uri": "https://localhost:8080/"
        },
        "id": "946EC5kak1Qg",
        "outputId": "b2119b05-ec52-4bda-c7a3-f99dfaa456f6"
      },
      "execution_count": 13,
      "outputs": [
        {
          "output_type": "execute_result",
          "data": {
            "text/plain": [
              "XGBRegressor(base_score=0.5, booster='gbtree', colsample_bylevel=1,\n",
              "             colsample_bynode=1, colsample_bytree=1, enable_categorical=False,\n",
              "             gamma=0, gpu_id=-1, importance_type=None,\n",
              "             interaction_constraints='', learning_rate=0.300000012,\n",
              "             max_delta_step=0, max_depth=6, min_child_weight=1, missing=nan,\n",
              "             monotone_constraints='()', n_estimators=100, n_jobs=2,\n",
              "             num_parallel_tree=1, predictor='auto', random_state=0, reg_alpha=0,\n",
              "             reg_lambda=1, scale_pos_weight=1, subsample=1, tree_method='exact',\n",
              "             validate_parameters=1, verbosity=0)"
            ]
          },
          "metadata": {},
          "execution_count": 13
        }
      ]
    },
    {
      "cell_type": "code",
      "source": [
        "score = xgbr.score(xtrain, ytrain)  \n",
        "print(\"Training score: \", score)"
      ],
      "metadata": {
        "colab": {
          "base_uri": "https://localhost:8080/"
        },
        "id": "v18pBFMnk2d7",
        "outputId": "05f12044-c7d7-40b9-ca14-4575cd17eb99"
      },
      "execution_count": 14,
      "outputs": [
        {
          "output_type": "stream",
          "name": "stdout",
          "text": [
            "Training score:  0.9095609860559484\n"
          ]
        }
      ]
    },
    {
      "cell_type": "code",
      "source": [
        "scores = cross_val_score(xgbr, xtrain, ytrain,cv=10)\n",
        "print(\"Mean cross-validation score: %.2f\" % scores.mean())"
      ],
      "metadata": {
        "colab": {
          "base_uri": "https://localhost:8080/"
        },
        "id": "C1G3IW3ik5K_",
        "outputId": "43fc2d4c-c751-406b-de2d-b265cd6c111a"
      },
      "execution_count": 15,
      "outputs": [
        {
          "output_type": "stream",
          "name": "stdout",
          "text": [
            "Mean cross-validation score: -0.22\n"
          ]
        }
      ]
    },
    {
      "cell_type": "code",
      "source": [
        "kfold = KFold(n_splits=10, shuffle=True)\n",
        "kf_cv_scores = cross_val_score(xgbr, xtrain, ytrain, cv=kfold )\n",
        "print(\"K-fold CV average score: %.2f\" % kf_cv_scores.mean())"
      ],
      "metadata": {
        "colab": {
          "base_uri": "https://localhost:8080/"
        },
        "id": "-63AK3Rxk7VH",
        "outputId": "8b8a9ae7-6643-4aa1-92a9-95ad91a6152a"
      },
      "execution_count": 16,
      "outputs": [
        {
          "output_type": "stream",
          "name": "stdout",
          "text": [
            "K-fold CV average score: -0.20\n"
          ]
        }
      ]
    },
    {
      "cell_type": "code",
      "source": [
        "ypred = xgbr.predict(xtest)\n",
        "mse = mean_squared_error(ytest, ypred)\n",
        "print(\"MSE: %.2f\" % mse)"
      ],
      "metadata": {
        "colab": {
          "base_uri": "https://localhost:8080/"
        },
        "id": "3Rh8XlpUlFLr",
        "outputId": "b286a36c-df8e-4cfd-a4e7-214cc3f71a04"
      },
      "execution_count": 17,
      "outputs": [
        {
          "output_type": "stream",
          "name": "stdout",
          "text": [
            "MSE: 0.03\n"
          ]
        }
      ]
    },
    {
      "cell_type": "code",
      "source": [
        "print(\"RMSE: %.2f\" % (mse**(1/2.0)))"
      ],
      "metadata": {
        "colab": {
          "base_uri": "https://localhost:8080/"
        },
        "id": "S5bhDSEolJRp",
        "outputId": "56518796-0ee9-4a79-dc1d-8e20acb7ae22"
      },
      "execution_count": 18,
      "outputs": [
        {
          "output_type": "stream",
          "name": "stdout",
          "text": [
            "RMSE: 0.17\n"
          ]
        }
      ]
    },
    {
      "cell_type": "code",
      "source": [
        "x_ax = range(len(ytest))\n",
        "plt.plot(x_ax, ytest, label=\"original\")\n",
        "plt.plot(x_ax, ypred, label=\"predicted\")\n",
        "plt.title(\"Manoa stream test and predicted data\")\n",
        "plt.legend()\n",
        "plt.show()"
      ],
      "metadata": {
        "colab": {
          "base_uri": "https://localhost:8080/",
          "height": 281
        },
        "id": "3Ojp3M9qlKY8",
        "outputId": "35544979-471f-4066-a668-1f0ee3c27f3f"
      },
      "execution_count": 19,
      "outputs": [
        {
          "output_type": "display_data",
          "data": {
            "image/png": "[encoded data removed]",
            "text/plain": [
              "<Figure size 432x288 with 1 Axes>"
            ]
          },
          "metadata": {
            "needs_background": "light"
          }
        }
      ]
    },
    {
      "cell_type": "code",
      "source": [
        ""
      ],
      "metadata": {
        "id": "6vEpNTnalMPb"
      },
      "execution_count": 19,
      "outputs": []
    }
  ]
}